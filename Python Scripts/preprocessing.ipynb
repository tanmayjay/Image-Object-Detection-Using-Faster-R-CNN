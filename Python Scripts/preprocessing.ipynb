{
 "cells": [
  {
   "cell_type": "code",
   "execution_count": 1,
   "metadata": {},
   "outputs": [],
   "source": [
    "import numpy as np\n",
    "import time\n",
    "import sys\n",
    "import os\n",
    "import random\n",
    "from skimage import io\n",
    "import pandas as pd\n",
    "from matplotlib import pyplot as plt\n",
    "from shutil import copyfile\n",
    "import cv2\n",
    "import tensorflow as tf"
   ]
  },
  {
   "cell_type": "code",
   "execution_count": 2,
   "metadata": {},
   "outputs": [],
   "source": [
    "datapath = 'N:\\Study\\Object Detection'\n",
    "#images_boxable = 'train-images-boxable.csv'\n",
    "#annotations_bbox = 'train-annotations-bbox.csv'\n",
    "#class_descriptions = 'class-descriptions.csv'"
   ]
  },
  {
   "cell_type": "code",
   "execution_count": 3,
   "metadata": {},
   "outputs": [
    {
     "data": {
      "text/html": [
       "<div>\n",
       "<style scoped>\n",
       "    .dataframe tbody tr th:only-of-type {\n",
       "        vertical-align: middle;\n",
       "    }\n",
       "\n",
       "    .dataframe tbody tr th {\n",
       "        vertical-align: top;\n",
       "    }\n",
       "\n",
       "    .dataframe thead th {\n",
       "        text-align: right;\n",
       "    }\n",
       "</style>\n",
       "<table border=\"1\" class=\"dataframe\">\n",
       "  <thead>\n",
       "    <tr style=\"text-align: right;\">\n",
       "      <th></th>\n",
       "      <th>image_name</th>\n",
       "      <th>image_url</th>\n",
       "    </tr>\n",
       "  </thead>\n",
       "  <tbody>\n",
       "    <tr>\n",
       "      <th>0</th>\n",
       "      <td>e39871fd9fd74f55.jpg</td>\n",
       "      <td>https://requestor-proxy.figure-eight.com/figur...</td>\n",
       "    </tr>\n",
       "    <tr>\n",
       "      <th>1</th>\n",
       "      <td>f18b91585c4d3f3e.jpg</td>\n",
       "      <td>https://requestor-proxy.figure-eight.com/figur...</td>\n",
       "    </tr>\n",
       "    <tr>\n",
       "      <th>2</th>\n",
       "      <td>ede6e66b2fb59aab.jpg</td>\n",
       "      <td>https://requestor-proxy.figure-eight.com/figur...</td>\n",
       "    </tr>\n",
       "    <tr>\n",
       "      <th>3</th>\n",
       "      <td>ed600d57fcee4f94.jpg</td>\n",
       "      <td>https://requestor-proxy.figure-eight.com/figur...</td>\n",
       "    </tr>\n",
       "    <tr>\n",
       "      <th>4</th>\n",
       "      <td>ff47e649b23f446d.jpg</td>\n",
       "      <td>https://requestor-proxy.figure-eight.com/figur...</td>\n",
       "    </tr>\n",
       "  </tbody>\n",
       "</table>\n",
       "</div>"
      ],
      "text/plain": [
       "             image_name                                          image_url\n",
       "0  e39871fd9fd74f55.jpg  https://requestor-proxy.figure-eight.com/figur...\n",
       "1  f18b91585c4d3f3e.jpg  https://requestor-proxy.figure-eight.com/figur...\n",
       "2  ede6e66b2fb59aab.jpg  https://requestor-proxy.figure-eight.com/figur...\n",
       "3  ed600d57fcee4f94.jpg  https://requestor-proxy.figure-eight.com/figur...\n",
       "4  ff47e649b23f446d.jpg  https://requestor-proxy.figure-eight.com/figur..."
      ]
     },
     "execution_count": 3,
     "metadata": {},
     "output_type": "execute_result"
    }
   ],
   "source": [
    "images_boxable = pd.read_csv(os.path.join(datapath, 'train-images-boxable.csv'))\n",
    "images_boxable.head()"
   ]
  },
  {
   "cell_type": "code",
   "execution_count": 4,
   "metadata": {},
   "outputs": [],
   "source": [
    "annotations_bbox = pd.read_csv(os.path.join(datapath, 'train-annotations-bbox.csv'))"
   ]
  },
  {
   "cell_type": "code",
   "execution_count": 6,
   "metadata": {},
   "outputs": [],
   "source": [
    "class_descriptions = pd.read_csv(os.path.join(datapath,'class-descriptions.csv'))"
   ]
  },
  {
   "cell_type": "code",
   "execution_count": 7,
   "metadata": {},
   "outputs": [],
   "source": [
    "# Find the label_name for 'Person', 'Mobile Phone' and 'Car' classes\n",
    "person = class_descriptions[class_descriptions['class']=='Person']\n",
    "food = class_descriptions[class_descriptions['class']=='Food']\n",
    "phone = class_descriptions[class_descriptions['class']=='Mobile phone']\n",
    "boat = class_descriptions[class_descriptions['class']=='Boat']\n",
    "car = class_descriptions[class_descriptions['class']=='Car']\n",
    "motorcycle = class_descriptions[class_descriptions['class']=='Motorcycle']\n",
    "fruit = class_descriptions[class_descriptions['class']=='Fruit']\n",
    "flower = class_descriptions[class_descriptions['class']=='Flower']\n",
    "\n",
    "label_person = person['name'].values[0]\n",
    "label_food = food['name'].values[0]\n",
    "label_phone = phone['name'].values[0]\n",
    "label_boat = boat['name'].values[0]\n",
    "label_car = car['name'].values[0]\n",
    "label_motorcycle = motorcycle['name'].values[0]\n",
    "label_fruit = fruit['name'].values[0]\n",
    "label_flower = flower['name'].values[0]"
   ]
  },
  {
   "cell_type": "code",
   "execution_count": 9,
   "metadata": {},
   "outputs": [],
   "source": [
    "person_bbox = annotations_bbox[annotations_bbox['LabelName']==label_person]\n",
    "food_bbox = annotations_bbox[annotations_bbox['LabelName']==label_food]\n",
    "phone_bbox = annotations_bbox[annotations_bbox['LabelName']==label_phone]\n",
    "boat_bbox = annotations_bbox[annotations_bbox['LabelName']==label_boat]\n",
    "car_bbox = annotations_bbox[annotations_bbox['LabelName']==label_car]\n",
    "motorcycle_bbox = annotations_bbox[annotations_bbox['LabelName']==label_motorcycle]\n",
    "fruit_bbox = annotations_bbox[annotations_bbox['LabelName']==label_fruit]\n",
    "flower_bbox = annotations_bbox[annotations_bbox['LabelName']==label_flower]"
   ]
  },
  {
   "cell_type": "code",
   "execution_count": 10,
   "metadata": {},
   "outputs": [
    {
     "name": "stdout",
     "output_type": "stream",
     "text": [
      "# of persons: 1034721\n",
      "# of food: 88422\n",
      "# of phones: 6365\n",
      "# of boat: 79113\n",
      "# of cars: 248075\n",
      "# of motorcycles: 13382\n",
      "# of fruit: 26236\n",
      "# of flower: 345296\n"
     ]
    }
   ],
   "source": [
    "print('# of persons: %d' %(len(person_bbox)))\n",
    "print('# of food: %d' %(len(food_bbox)))\n",
    "print('# of phones: %d' %(len(phone_bbox)))\n",
    "print('# of boat: %d' %(len(boat_bbox)))\n",
    "print('# of cars: %d' %(len(car_bbox)))\n",
    "print('# of motorcycles: %d' %(len(motorcycle_bbox)))\n",
    "print('# of fruit: %d' %(len(fruit_bbox)))\n",
    "print('# of flower: %d' %(len(flower_bbox)))"
   ]
  },
  {
   "cell_type": "code",
   "execution_count": 11,
   "metadata": {},
   "outputs": [],
   "source": [
    "person_img_id = person_bbox['ImageID']\n",
    "phone_img_id = phone_bbox['ImageID']\n",
    "car_img_id = car_bbox['ImageID']\n",
    "motorcycle_img_id = motorcycle_bbox['ImageID']\n",
    "boat_img_id = boat_bbox['ImageID']\n",
    "fruit_img_id = fruit_bbox['ImageID']\n",
    "flower_img_id = flower_bbox['ImageID']\n",
    "food_img_id = food_bbox['ImageID']"
   ]
  },
  {
   "cell_type": "code",
   "execution_count": 12,
   "metadata": {},
   "outputs": [],
   "source": [
    "flower_img_id = np.unique(flower_img_id)\n",
    "phone_img_id = np.unique(phone_img_id)\n",
    "motorcycle_img_id = np.unique(motorcycle_img_id)\n",
    "person_img_id = np.unique(person_img_id)\n",
    "boat_img_id = np.unique(boat_img_id)\n",
    "car_img_id = np.unique(car_img_id)\n",
    "fruit_img_id = np.unique(fruit_img_id)\n",
    "food_img_id = np.unique(food_img_id)"
   ]
  },
  {
   "cell_type": "code",
   "execution_count": 13,
   "metadata": {},
   "outputs": [
    {
     "name": "stdout",
     "output_type": "stream",
     "text": [
      "248384 images containing persons\n",
      "4312 images containing phones\n",
      "89465 images containing cars\n",
      "6944 images containing motorcycle\n",
      "25478 images containing boat\n",
      "25712 images containing food\n",
      "5283 images containing fruit\n",
      "62716 images containing flower\n"
     ]
    }
   ],
   "source": [
    "print('%d images containing persons' % (len(person_img_id)))\n",
    "print('%d images containing phones' % (len(phone_img_id)))\n",
    "print('%d images containing cars' % (len(car_img_id)))\n",
    "print('%d images containing motorcycle' % (len(motorcycle_img_id)))\n",
    "print('%d images containing boat' % (len(boat_img_id)))\n",
    "print('%d images containing food' % (len(food_img_id)))\n",
    "print('%d images containing fruit' % (len(fruit_img_id)))\n",
    "print('%d images containing flower' % (len(flower_img_id)))"
   ]
  },
  {
   "cell_type": "code",
   "execution_count": 14,
   "metadata": {},
   "outputs": [],
   "source": [
    "#rabdomly shuffling img_ids\n",
    "person_img_cpy = person_img_id.copy()\n",
    "random.seed(1)\n",
    "random.shuffle(person_img_cpy)\n",
    "\n",
    "phone_img_cpy = phone_img_id.copy()\n",
    "random.seed(1)\n",
    "random.shuffle(phone_img_cpy)\n",
    "\n",
    "car_img_cpy = car_img_id.copy()\n",
    "random.seed(1)\n",
    "random.shuffle(car_img_cpy)\n",
    "\n",
    "motorcycle_img_cpy = motorcycle_img_id.copy()\n",
    "random.seed(1)\n",
    "random.shuffle(motorcycle_img_cpy)\n",
    "\n",
    "fruit_img_cpy = fruit_img_id.copy()\n",
    "random.seed(1)\n",
    "random.shuffle(fruit_img_cpy)\n",
    "\n",
    "flower_img_cpy = flower_img_id.copy()\n",
    "random.seed(1)\n",
    "random.shuffle(flower_img_cpy)\n",
    "\n",
    "boat_img_cpy = boat_img_id.copy()\n",
    "random.seed(1)\n",
    "random.shuffle(boat_img_cpy)\n",
    "\n",
    "food_img_cpy = food_img_id.copy()\n",
    "random.seed(1)\n",
    "random.shuffle(food_img_cpy)\n",
    "\n",
    "#selecting 1000 img_ids\n",
    "n = 1000\n",
    "person_img_filt = person_img_cpy[:n]\n",
    "phone_img_filt = phone_img_cpy[:n]\n",
    "car_img_filt = car_img_cpy[:n]\n",
    "motorcycle_img_filt = motorcycle_img_cpy[:n]\n",
    "food_img_filt = food_img_cpy[:n]\n",
    "boat_img_filt = boat_img_cpy[:n]\n",
    "fruit_img_filt = fruit_img_cpy[:n]\n",
    "flower_img_filt = flower_img_cpy[:n]"
   ]
  },
  {
   "cell_type": "code",
   "execution_count": 56,
   "metadata": {},
   "outputs": [],
   "source": [
    "person_img_url = [images_boxable[images_boxable['image_name']==name+'.jpg'] for name in person_img_filt]\n",
    "phone_img_url = [images_boxable[images_boxable['image_name']==name+'.jpg'] for name in phone_img_filt]\n",
    "car_img_url = [images_boxable[images_boxable['image_name']==name+'.jpg'] for name in car_img_filt]\n",
    "motorcycle_img_url = [images_boxable[images_boxable['image_name']==name+'.jpg'] for name in motorcycle_img_filt]\n",
    "food_img_url = [images_boxable[images_boxable['image_name']==name+'.jpg'] for name in food_img_filt]\n",
    "boat_img_url = [images_boxable[images_boxable['image_name']==name+'.jpg'] for name in boat_img_filt]\n",
    "fruit_img_url = [images_boxable[images_boxable['image_name']==name+'.jpg'] for name in fruit_img_filt]\n",
    "flower_img_url = [images_boxable[images_boxable['image_name']==name+'.jpg'] for name in flower_img_filt]"
   ]
  },
  {
   "cell_type": "code",
   "execution_count": 58,
   "metadata": {},
   "outputs": [],
   "source": [
    "person_df = pd.DataFrame()\n",
    "phone_df = pd.DataFrame()\n",
    "car_df = pd.DataFrame()\n",
    "motorcycle_df = pd.DataFrame()\n",
    "food_df = pd.DataFrame()\n",
    "boat_df = pd.DataFrame()\n",
    "fruit_df = pd.DataFrame()\n",
    "flower_df = pd.DataFrame()\n",
    "\n",
    "for i in range(len(person_img_url)):\n",
    "    person_df = person_df.append(person_img_url[i], ignore_index = True)\n",
    "    phone_df = phone_df.append(phone_img_url[i], ignore_index = True)\n",
    "    car_df = car_df.append(car_img_url[i], ignore_index = True)\n",
    "    motorcycle_df = motorcycle_df.append(motorcycle_img_url[i], ignore_index = True)\n",
    "    food_df = food_df.append(food_img_url[i], ignore_index = True)\n",
    "    boat_df = boat_df.append(boat_img_url[i], ignore_index = True)\n",
    "    fruit_df = fruit_df.append(fruit_img_url[i], ignore_index = True)\n",
    "    flower_df = flower_df.append(flower_img_url[i], ignore_index = True)\n",
    "\n",
    "person_df.to_csv(os.path.join(datapath, 'filt_person_img_url.csv'))\n",
    "phone_df.to_csv(os.path.join(datapath, 'filt_phone_img_url.csv'))\n",
    "car_df.to_csv(os.path.join(datapath, 'filt_car_img_url.csv'))\n",
    "motorcycle_df.to_csv(os.path.join(datapath, 'filt_motorcycle_img_url.csv'))\n",
    "food_df.to_csv(os.path.join(datapath, 'filt_food_img_url.csv'))\n",
    "boat_df.to_csv(os.path.join(datapath, 'filt_boat_img_url.csv'))\n",
    "fruit_df.to_csv(os.path.join(datapath, 'filt_fruit_img_url.csv'))\n",
    "flower_df.to_csv(os.path.join(datapath, 'filt_flower_img_url.csv'))"
   ]
  },
  {
   "cell_type": "code",
   "execution_count": 62,
   "metadata": {},
   "outputs": [
    {
     "ename": "TypeError",
     "evalue": "string indices must be integers",
     "output_type": "error",
     "traceback": [
      "\u001b[1;31m---------------------------------------------------------------------------\u001b[0m",
      "\u001b[1;31mTypeError\u001b[0m                                 Traceback (most recent call last)",
      "\u001b[1;32m<ipython-input-62-70348993456e>\u001b[0m in \u001b[0;36m<module>\u001b[1;34m\u001b[0m\n\u001b[1;32m----> 1\u001b[1;33m \u001b[0mperson_img_url\u001b[0m \u001b[1;33m=\u001b[0m \u001b[1;33m[\u001b[0m\u001b[0murl\u001b[0m\u001b[1;33m[\u001b[0m\u001b[1;34m'image_url'\u001b[0m\u001b[1;33m]\u001b[0m\u001b[1;33m.\u001b[0m\u001b[0mvalues\u001b[0m\u001b[1;33m[\u001b[0m\u001b[1;36m0\u001b[0m\u001b[1;33m]\u001b[0m \u001b[1;32mfor\u001b[0m \u001b[0murl\u001b[0m \u001b[1;32min\u001b[0m \u001b[0mperson_img_url\u001b[0m\u001b[1;33m]\u001b[0m\u001b[1;33m\u001b[0m\u001b[1;33m\u001b[0m\u001b[0m\n\u001b[0m\u001b[0;32m      2\u001b[0m \u001b[0mphone_img_url\u001b[0m \u001b[1;33m=\u001b[0m \u001b[1;33m[\u001b[0m\u001b[0murl\u001b[0m\u001b[1;33m[\u001b[0m\u001b[1;34m'image_url'\u001b[0m\u001b[1;33m]\u001b[0m\u001b[1;33m.\u001b[0m\u001b[0mvalues\u001b[0m\u001b[1;33m[\u001b[0m\u001b[1;36m0\u001b[0m\u001b[1;33m]\u001b[0m \u001b[1;32mfor\u001b[0m \u001b[0murl\u001b[0m \u001b[1;32min\u001b[0m \u001b[0mphone_img_url\u001b[0m\u001b[1;33m]\u001b[0m\u001b[1;33m\u001b[0m\u001b[1;33m\u001b[0m\u001b[0m\n\u001b[0;32m      3\u001b[0m \u001b[0mcar_img_url\u001b[0m \u001b[1;33m=\u001b[0m \u001b[1;33m[\u001b[0m\u001b[0murl\u001b[0m\u001b[1;33m[\u001b[0m\u001b[1;34m'image_url'\u001b[0m\u001b[1;33m]\u001b[0m\u001b[1;33m.\u001b[0m\u001b[0mvalues\u001b[0m\u001b[1;33m[\u001b[0m\u001b[1;36m0\u001b[0m\u001b[1;33m]\u001b[0m \u001b[1;32mfor\u001b[0m \u001b[0murl\u001b[0m \u001b[1;32min\u001b[0m \u001b[0mcar_img_url\u001b[0m\u001b[1;33m]\u001b[0m\u001b[1;33m\u001b[0m\u001b[1;33m\u001b[0m\u001b[0m\n\u001b[0;32m      4\u001b[0m \u001b[0mmotorcycle_img_url\u001b[0m \u001b[1;33m=\u001b[0m \u001b[1;33m[\u001b[0m\u001b[0murl\u001b[0m\u001b[1;33m[\u001b[0m\u001b[1;34m'image_url'\u001b[0m\u001b[1;33m]\u001b[0m\u001b[1;33m.\u001b[0m\u001b[0mvalues\u001b[0m\u001b[1;33m[\u001b[0m\u001b[1;36m0\u001b[0m\u001b[1;33m]\u001b[0m \u001b[1;32mfor\u001b[0m \u001b[0murl\u001b[0m \u001b[1;32min\u001b[0m \u001b[0mmotorcycle_img_url\u001b[0m\u001b[1;33m]\u001b[0m\u001b[1;33m\u001b[0m\u001b[1;33m\u001b[0m\u001b[0m\n\u001b[0;32m      5\u001b[0m \u001b[0mboat_img_url\u001b[0m \u001b[1;33m=\u001b[0m \u001b[1;33m[\u001b[0m\u001b[0murl\u001b[0m\u001b[1;33m[\u001b[0m\u001b[1;34m'image_url'\u001b[0m\u001b[1;33m]\u001b[0m\u001b[1;33m.\u001b[0m\u001b[0mvalues\u001b[0m\u001b[1;33m[\u001b[0m\u001b[1;36m0\u001b[0m\u001b[1;33m]\u001b[0m \u001b[1;32mfor\u001b[0m \u001b[0murl\u001b[0m \u001b[1;32min\u001b[0m \u001b[0mboat_img_url\u001b[0m\u001b[1;33m]\u001b[0m\u001b[1;33m\u001b[0m\u001b[1;33m\u001b[0m\u001b[0m\n",
      "\u001b[1;32m<ipython-input-62-70348993456e>\u001b[0m in \u001b[0;36m<listcomp>\u001b[1;34m(.0)\u001b[0m\n\u001b[1;32m----> 1\u001b[1;33m \u001b[0mperson_img_url\u001b[0m \u001b[1;33m=\u001b[0m \u001b[1;33m[\u001b[0m\u001b[0murl\u001b[0m\u001b[1;33m[\u001b[0m\u001b[1;34m'image_url'\u001b[0m\u001b[1;33m]\u001b[0m\u001b[1;33m.\u001b[0m\u001b[0mvalues\u001b[0m\u001b[1;33m[\u001b[0m\u001b[1;36m0\u001b[0m\u001b[1;33m]\u001b[0m \u001b[1;32mfor\u001b[0m \u001b[0murl\u001b[0m \u001b[1;32min\u001b[0m \u001b[0mperson_img_url\u001b[0m\u001b[1;33m]\u001b[0m\u001b[1;33m\u001b[0m\u001b[1;33m\u001b[0m\u001b[0m\n\u001b[0m\u001b[0;32m      2\u001b[0m \u001b[0mphone_img_url\u001b[0m \u001b[1;33m=\u001b[0m \u001b[1;33m[\u001b[0m\u001b[0murl\u001b[0m\u001b[1;33m[\u001b[0m\u001b[1;34m'image_url'\u001b[0m\u001b[1;33m]\u001b[0m\u001b[1;33m.\u001b[0m\u001b[0mvalues\u001b[0m\u001b[1;33m[\u001b[0m\u001b[1;36m0\u001b[0m\u001b[1;33m]\u001b[0m \u001b[1;32mfor\u001b[0m \u001b[0murl\u001b[0m \u001b[1;32min\u001b[0m \u001b[0mphone_img_url\u001b[0m\u001b[1;33m]\u001b[0m\u001b[1;33m\u001b[0m\u001b[1;33m\u001b[0m\u001b[0m\n\u001b[0;32m      3\u001b[0m \u001b[0mcar_img_url\u001b[0m \u001b[1;33m=\u001b[0m \u001b[1;33m[\u001b[0m\u001b[0murl\u001b[0m\u001b[1;33m[\u001b[0m\u001b[1;34m'image_url'\u001b[0m\u001b[1;33m]\u001b[0m\u001b[1;33m.\u001b[0m\u001b[0mvalues\u001b[0m\u001b[1;33m[\u001b[0m\u001b[1;36m0\u001b[0m\u001b[1;33m]\u001b[0m \u001b[1;32mfor\u001b[0m \u001b[0murl\u001b[0m \u001b[1;32min\u001b[0m \u001b[0mcar_img_url\u001b[0m\u001b[1;33m]\u001b[0m\u001b[1;33m\u001b[0m\u001b[1;33m\u001b[0m\u001b[0m\n\u001b[0;32m      4\u001b[0m \u001b[0mmotorcycle_img_url\u001b[0m \u001b[1;33m=\u001b[0m \u001b[1;33m[\u001b[0m\u001b[0murl\u001b[0m\u001b[1;33m[\u001b[0m\u001b[1;34m'image_url'\u001b[0m\u001b[1;33m]\u001b[0m\u001b[1;33m.\u001b[0m\u001b[0mvalues\u001b[0m\u001b[1;33m[\u001b[0m\u001b[1;36m0\u001b[0m\u001b[1;33m]\u001b[0m \u001b[1;32mfor\u001b[0m \u001b[0murl\u001b[0m \u001b[1;32min\u001b[0m \u001b[0mmotorcycle_img_url\u001b[0m\u001b[1;33m]\u001b[0m\u001b[1;33m\u001b[0m\u001b[1;33m\u001b[0m\u001b[0m\n\u001b[0;32m      5\u001b[0m \u001b[0mboat_img_url\u001b[0m \u001b[1;33m=\u001b[0m \u001b[1;33m[\u001b[0m\u001b[0murl\u001b[0m\u001b[1;33m[\u001b[0m\u001b[1;34m'image_url'\u001b[0m\u001b[1;33m]\u001b[0m\u001b[1;33m.\u001b[0m\u001b[0mvalues\u001b[0m\u001b[1;33m[\u001b[0m\u001b[1;36m0\u001b[0m\u001b[1;33m]\u001b[0m \u001b[1;32mfor\u001b[0m \u001b[0murl\u001b[0m \u001b[1;32min\u001b[0m \u001b[0mboat_img_url\u001b[0m\u001b[1;33m]\u001b[0m\u001b[1;33m\u001b[0m\u001b[1;33m\u001b[0m\u001b[0m\n",
      "\u001b[1;31mTypeError\u001b[0m: string indices must be integers"
     ]
    }
   ],
   "source": [
    "person_img_url = [url['image_url'].values[0] for url in person_img_url]\n",
    "phone_img_url = [url['image_url'].values[0] for url in phone_img_url]\n",
    "car_img_url = [url['image_url'].values[0] for url in car_img_url]\n",
    "motorcycle_img_url = [url['image_url'].values[0] for url in motorcycle_img_url]\n",
    "boat_img_url = [url['image_url'].values[0] for url in boat_img_url]\n",
    "food_img_url = [url['image_url'].values[0] for url in food_img_url]\n",
    "fruit_img_url = [url['image_url'].values[0] for url in fruit_img_url]\n",
    "flower_img_url = [url['image_url'].values[0] for url in flower_img_url]\n",
    "\n",
    "urls = [person_img_url, phone_img_url, car_img_url, motorcycle_img_url, boat_img_url, food_img_url, fruit_img_url, flower_img_url]"
   ]
  },
  {
   "cell_type": "code",
   "execution_count": 63,
   "metadata": {},
   "outputs": [],
   "source": [
    "person_df= pd.read_csv(os.path.join(datapath, 'filt_person_img_url.csv'))\n",
    "phone_df= pd.read_csv(os.path.join(datapath, 'filt_phone_img_url.csv'))\n",
    "car_df= pd.read_csv(os.path.join(datapath, 'filt_car_img_url.csv'))\n",
    "motorcycle_df= pd.read_csv(os.path.join(datapath, 'filt_motorcycle_img_url.csv'))\n",
    "food_df= pd.read_csv(os.path.join(datapath, 'filt_food_img_url.csv'))\n",
    "boat_df= pd.read_csv(os.path.join(datapath, 'filt_boat_img_url.csv'))\n",
    "fruit_df= pd.read_csv(os.path.join(datapath, 'filt_fruit_img_url.csv'))\n",
    "flower_df= pd.read_csv(os.path.join(datapath, 'filt_flower_img_url.csv'))\n",
    "\n",
    "person_img_url = person_df['image_url'].values\n",
    "phone_img_url = phone_df['image_url'].values\n",
    "car_img_url = car_df['image_url'].values\n",
    "motorcycle_img_url = motorcycle_df['image_url'].values\n",
    "food_img_url = food_df['image_url'].values\n",
    "boat_img_url = boat_df['image_url'].values\n",
    "fruit_img_url = fruit_df['image_url'].values\n",
    "flower_img_url = flower_df['image_url'].values\n",
    "\n",
    "urls = [person_img_url, phone_img_url, car_img_url, motorcycle_img_url, boat_img_url, food_img_url, fruit_img_url, flower_img_url]"
   ]
  },
  {
   "cell_type": "code",
   "execution_count": 64,
   "metadata": {},
   "outputs": [],
   "source": [
    "saved_dirs = [os.path.join(datapath,'Person'),os.path.join(datapath,'Mobile phone'),os.path.join(datapath,'Car'),os.path.join(datapath,'Motorcycle'),os.path.join(datapath,'Boat'),os.path.join(datapath,'Food'),os.path.join(datapath,'Fruit'),os.path.join(datapath,'Flower')]"
   ]
  },
  {
   "cell_type": "code",
   "execution_count": 65,
   "metadata": {},
   "outputs": [],
   "source": [
    "classes = ['Person', 'Mobile phone', 'Car', 'Motorcycle', 'Boat', 'Food', 'Fruit', 'Flower']"
   ]
  },
  {
   "cell_type": "code",
   "execution_count": 79,
   "metadata": {},
   "outputs": [],
   "source": [
    "import http.client"
   ]
  },
  {
   "cell_type": "code",
   "execution_count": 70,
   "metadata": {},
   "outputs": [
    {
     "name": "stdout",
     "output_type": "stream",
     "text": [
      "['Person', 'Mobile phone', 'Car', 'Motorcycle', 'Boat', 'Food', 'Fruit', 'Flower']\n"
     ]
    }
   ],
   "source": [
    "print(classes)"
   ]
  },
  {
   "cell_type": "code",
   "execution_count": 87,
   "metadata": {},
   "outputs": [],
   "source": [
    "for i in range(562,len(urls[1])):\n",
    "        try:\n",
    "            img = io.imread(urls[1][i])\n",
    "            if (img.shape[0]==2):\n",
    "                img = img[0]\n",
    "        except (http.client.IncompleteRead) as e:\n",
    "            img = e.partial\n",
    "        saved_path = os.path.join('N:\\Study\\Object Detection\\Mobile Phone', urls[1][i][-20:])\n",
    "        io.imsave(saved_path, img)"
   ]
  },
  {
   "cell_type": "code",
   "execution_count": 88,
   "metadata": {},
   "outputs": [],
   "source": [
    "for i in range(81,len(urls[2])):\n",
    "        try:\n",
    "            img = io.imread(urls[2][i])\n",
    "            if (img.shape[0]==2):\n",
    "                img = img[0]\n",
    "        except (http.client.IncompleteRead) as e:\n",
    "            img = e.partial\n",
    "        saved_path = os.path.join('N:\\Study\\Object Detection\\Car', urls[2][i][-20:])\n",
    "        io.imsave(saved_path, img)"
   ]
  },
  {
   "cell_type": "code",
   "execution_count": 89,
   "metadata": {},
   "outputs": [],
   "source": [
    "for i in range(3,len(classes)):\n",
    "    # Create the directory\n",
    "    os.mkdir(saved_dirs[i])\n",
    "    dir = saved_dirs[i]\n",
    "    for url in urls[i]:\n",
    "        # print(url)\n",
    "        try:\n",
    "            img = io.imread(url)\n",
    "            if (img.shape[0]==2):\n",
    "                img = img[0]\n",
    "        except (http.client.IncompleteRead) as e:\n",
    "            img = e.partial\n",
    "        saved_path = os.path.join(dir, url[-20:])\n",
    "        io.imsave(saved_path, img)"
   ]
  },
  {
   "cell_type": "code",
   "execution_count": null,
   "metadata": {},
   "outputs": [],
   "source": [
    "train_path = os.path.join(datapath, 'train')\n",
    "os.mkdir(train_path)\n",
    "test_path = os.path.join(datapath, 'test')\n",
    "os.mkdir(test_path)"
   ]
  },
  {
   "cell_type": "code",
   "execution_count": 92,
   "metadata": {},
   "outputs": [],
   "source": [
    "for i in range(len(classes)):    \n",
    "    tot_img = os.listdir(os.path.join(datapath, classes[i]))\n",
    "    tot_img = [f for f in tot_img if not f.startswith('.')]\n",
    "    random.seed(1)\n",
    "    random.shuffle(tot_img)\n",
    "    \n",
    "    train_img = tot_img[:800]\n",
    "    test_img = tot_img[800:]\n",
    "    \n",
    "    # Copy each classes' images to train directory\n",
    "    for j in range(len(train_img)):\n",
    "        old_path = os.path.join(os.path.join(datapath, classes[i]), train_img[j])\n",
    "        new_path = os.path.join(train_path, train_img[j])\n",
    "        copyfile(old_path, new_path)\n",
    "    \n",
    "    # Copy each classes' images to test directory\n",
    "    for j in range(len(test_img)):\n",
    "        old_path = os.path.join(os.path.join(datapath, classes[i]), test_img[j])\n",
    "        new_path = os.path.join(test_path, test_img[j])\n",
    "        copyfile(old_path, new_path)"
   ]
  },
  {
   "cell_type": "code",
   "execution_count": 93,
   "metadata": {},
   "outputs": [
    {
     "name": "stdout",
     "output_type": "stream",
     "text": [
      "Total images in train:  6395\n",
      "Total images in train:  1598\n"
     ]
    }
   ],
   "source": [
    "print('Total images in train: ', len(os.listdir(train_path))) # subtract one because there is one hidden file named '.DS_Store'\n",
    "print('Total images in train: ', len(os.listdir(test_path)))"
   ]
  },
  {
   "cell_type": "code",
   "execution_count": 98,
   "metadata": {},
   "outputs": [],
   "source": [
    "labels = [label_person, label_phone, label_car, label_motorcycle, label_boat, label_food, label_fruit, label_flower]"
   ]
  },
  {
   "cell_type": "code",
   "execution_count": 99,
   "metadata": {},
   "outputs": [
    {
     "name": "stdout",
     "output_type": "stream",
     "text": [
      "['/m/01g317', '/m/050k8', '/m/0k4j', '/m/04_sv', '/m/019jd', '/m/02wbm', '/m/02xwb', '/m/0c9ph5']\n"
     ]
    }
   ],
   "source": [
    "print(labels)"
   ]
  },
  {
   "cell_type": "code",
   "execution_count": null,
   "metadata": {},
   "outputs": [],
   "source": [
    "train_df, test_df = pd.DataFrame(columns=['FileName', 'XMin', 'XMax', 'YMin', 'YMax', 'ClassName'])"
   ]
  },
  {
   "cell_type": "code",
   "execution_count": 100,
   "metadata": {},
   "outputs": [
    {
     "name": "stdout",
     "output_type": "stream",
     "text": [
      "Parse train_img 6394; Number of boxes: 26351\r"
     ]
    }
   ],
   "source": [
    "# Find boxes in each image and put them in a dataframe\n",
    "train_img = os.listdir(train_path)\n",
    "train_img = [name for name in train_img if not name.startswith('.')]\n",
    "\n",
    "for i in range(len(train_img)):\n",
    "    sys.stdout.write('Parse train_img ' + str(i) + '; Number of boxes: ' + str(len(train_df)) + '\\r')\n",
    "    sys.stdout.flush()\n",
    "    file_name = train_img[i]\n",
    "    file_id = file_name[0:16]\n",
    "    temp_df = annotations_bbox[annotations_bbox['ImageID']==file_id]\n",
    "    for index, row in temp_df.iterrows():\n",
    "        label_Name = row['LabelName']\n",
    "        for i in range(len(labels)):\n",
    "            if label_Name == labels[i]:\n",
    "                train_df = train_df.append({'FileName': file_name, \n",
    "                                            'XMin': row['XMin'], \n",
    "                                            'XMax': row['XMax'], \n",
    "                                            'YMin': row['YMin'], \n",
    "                                            'YMax': row['YMax'], \n",
    "                                            'ClassName': classes[i]}, \n",
    "                                           ignore_index=True)"
   ]
  },
  {
   "cell_type": "code",
   "execution_count": 101,
   "metadata": {},
   "outputs": [
    {
     "name": "stdout",
     "output_type": "stream",
     "text": [
      "Parse test_imgs 1597; Number of boxes: 6530\r"
     ]
    }
   ],
   "source": [
    "test_df = pd.DataFrame(columns=['FileName', 'XMin', 'XMax', 'YMin', 'YMax', 'ClassName'])\n",
    "# Find boxes in each image and put them in a dataframe\n",
    "test_img = os.listdir(test_path)\n",
    "test_img = [name for name in test_img if not name.startswith('.')]\n",
    "\n",
    "for i in range(len(test_img)):\n",
    "    sys.stdout.write('Parse test_imgs ' + str(i) + '; Number of boxes: ' + str(len(test_df)) + '\\r')\n",
    "    sys.stdout.flush()\n",
    "    file_name = test_img[i]\n",
    "    file_id = file_name[0:16]\n",
    "    temp_df = annotations_bbox[annotations_bbox['ImageID']==file_id]\n",
    "    for index, row in temp_df.iterrows():\n",
    "        label_Name = row['LabelName']\n",
    "        for i in range(len(labels)):\n",
    "            if label_Name == labels[i]:\n",
    "                test_df = test_df.append({'FileName': file_name, \n",
    "                                            'XMin': row['XMin'], \n",
    "                                            'XMax': row['XMax'], \n",
    "                                            'YMin': row['YMin'], \n",
    "                                            'YMax': row['YMax'], \n",
    "                                            'ClassName': classes[i]}, \n",
    "                                           ignore_index=True)"
   ]
  },
  {
   "cell_type": "code",
   "execution_count": 102,
   "metadata": {},
   "outputs": [],
   "source": [
    "train_df.to_csv(os.path.join(datapath, 'train.csv'))\n",
    "test_df.to_csv(os.path.join(datapath, 'test.csv'))"
   ]
  },
  {
   "cell_type": "code",
   "execution_count": 103,
   "metadata": {},
   "outputs": [
    {
     "name": "stdout",
     "output_type": "stream",
     "text": [
      "26352\r"
     ]
    }
   ],
   "source": [
    "# print(train_df.head())\n",
    "train_df = pd.read_csv(os.path.join(datapath, 'train.csv'))\n",
    "#file_path = os.path.join(train_path,'train')\n",
    "#os.mkdir(file_path)\n",
    "\n",
    "# For training\n",
    "f= open(datapath + \"/annotation.txt\",\"w+\")\n",
    "for idx, row in train_df.iterrows():\n",
    "    sys.stdout.write(str(idx) + '\\r')\n",
    "    sys.stdout.flush()\n",
    "    img = cv2.imread((datapath + '/train/' + row['FileName']))\n",
    "    height, width = img.shape[:2]\n",
    "    x1 = int(row['XMin'] * width)\n",
    "    x2 = int(row['XMax'] * width)\n",
    "    y1 = int(row['YMin'] * height)\n",
    "    y2 = int(row['YMax'] * height)\n",
    "    \n",
    "    fileName = os.path.join(train_path, row['FileName'])\n",
    "    className = row['ClassName']\n",
    "    f.write(fileName + ',' + str(x1) + ',' + str(y1) + ',' + str(x2) + ',' + str(y2) + ',' + className + '\\n')\n",
    "f.close()"
   ]
  },
  {
   "cell_type": "code",
   "execution_count": 104,
   "metadata": {},
   "outputs": [
    {
     "name": "stdout",
     "output_type": "stream",
     "text": [
      "6531\r"
     ]
    }
   ],
   "source": [
    "#print(test_df.head())\n",
    "test_df = pd.read_csv(os.path.join(datapath, 'test.csv'))\n",
    "\n",
    "# For test\n",
    "f= open(datapath + \"/test_annotation.txt\",\"w+\")\n",
    "for idx, row in test_df.iterrows():\n",
    "    sys.stdout.write(str(idx) + '\\r')\n",
    "    sys.stdout.flush()\n",
    "    img = cv2.imread((datapath + '/test/' + row['FileName']))\n",
    "    height, width = img.shape[:2]\n",
    "    x1 = int(row['XMin'] * width)\n",
    "    x2 = int(row['XMax'] * width)\n",
    "    y1 = int(row['YMin'] * height)\n",
    "    y2 = int(row['YMax'] * height)\n",
    "    \n",
    "    fileName = os.path.join(test_path, row['FileName'])\n",
    "    className = row['ClassName']\n",
    "    f.write(fileName + ',' + str(x1) + ',' + str(y1) + ',' + str(x2) + ',' + str(y2) + ',' + className + '\\n')\n",
    "f.close()"
   ]
  }
 ],
 "metadata": {
  "kernelspec": {
   "display_name": "Python 3",
   "language": "python",
   "name": "python3"
  },
  "language_info": {
   "codemirror_mode": {
    "name": "ipython",
    "version": 3
   },
   "file_extension": ".py",
   "mimetype": "text/x-python",
   "name": "python",
   "nbconvert_exporter": "python",
   "pygments_lexer": "ipython3",
   "version": "3.7.3"
  }
 },
 "nbformat": 4,
 "nbformat_minor": 2
}
